{
 "cells": [
  {
   "cell_type": "markdown",
   "metadata": {
    "slideshow": {
     "slide_type": "slide"
    }
   },
   "source": [
    "# Tutorial For Julia Language\n",
    "\n",
    "**Roger Luo**, University of Waterloo.\n",
    "\n",
    "*NASA Park, DoraHack*"
   ]
  },
  {
   "cell_type": "markdown",
   "metadata": {},
   "source": [
    "This tutorial is "
   ]
  },
  {
   "cell_type": "markdown",
   "metadata": {
    "slideshow": {
     "slide_type": "slide"
    }
   },
   "source": [
    "## Installation\n",
    "\n",
    "### Option 1: Use it online\n",
    "\n",
    "You can use Julia online without any local installation with JuliaBox: http://juliabox.com\n",
    "\n",
    "### Option 2: Download JuliaPro (0.6, not yet update to 1.0)\n",
    "\n",
    "This includes: an editor with IDE extension on atom: Juno. Several packages.\n",
    "\n",
    "https://juliacomputing.com/products/juliapro.html\n",
    "\n"
   ]
  },
  {
   "cell_type": "markdown",
   "metadata": {
    "slideshow": {
     "slide_type": "slide"
    }
   },
   "source": [
    "### Option 3: Download the compiler\n",
    "\n",
    "You can download the Julia compiler from its official website.\n",
    "\n",
    "https://julialang.org/downloads/\n",
    "\n",
    "And write Julia scripts with your favorate editors. There are extensions for Julia in the following editors/IDEs:\n",
    "\n",
    "- Visual Studio Code\n",
    "- Vim/SpaceVim\n",
    "- Sublime\n",
    "- Jupter Lab\n",
    "- Jetbrain IDEs: https://plugins.jetbrains.com/plugin/10413-julia \n"
   ]
  },
  {
   "cell_type": "markdown",
   "metadata": {
    "slideshow": {
     "slide_type": "slide"
    }
   },
   "source": [
    "### Option 4: The hard way -- build from source\n",
    "\n",
    "You may gain better optimization by building the compiler from source with `MARCH=ON`, `USE_MKL`, etc. And this allows you to access fresh features in the `master` branch.\n",
    "\n",
    "To build from source, you should read through the [README.md](https://github.com/JuliaLang/julia/blob/master/README.md). For OSX, to build with Intel MKL, you should be careful with this issue: https://github.com/JuliaLang/julia/issues/15133#issuecomment-419161776\n"
   ]
  },
  {
   "cell_type": "markdown",
   "metadata": {
    "slideshow": {
     "slide_type": "slide"
    }
   },
   "source": [
    "## REPL\n",
    "\n",
    "Also known as **Interactive Session**, or **read-eval-print loop**. If you use `Python`, just use it like `IPython`.\n",
    "\n",
    "There are three modes by default:\n",
    "\n",
    "- `?` help mode\n",
    "- `]` package mode\n",
    "- `;` shell mode\n"
   ]
  },
  {
   "cell_type": "markdown",
   "metadata": {
    "slideshow": {
     "slide_type": "slide"
    }
   },
   "source": []
  }
 ],
 "metadata": {
  "celltoolbar": "Slideshow",
  "kernelspec": {
   "display_name": "Julia 1.0.0",
   "language": "julia",
   "name": "julia-1.0"
  },
  "language_info": {
   "file_extension": ".jl",
   "mimetype": "application/julia",
   "name": "julia",
   "version": "1.0.0"
  }
 },
 "nbformat": 4,
 "nbformat_minor": 2
}
