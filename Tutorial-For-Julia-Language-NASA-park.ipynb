{
 "cells": [
  {
   "cell_type": "markdown",
   "metadata": {
    "slideshow": {
     "slide_type": "slide"
    }
   },
   "source": [
    "# Tutorial For Julia Language\n",
    "\n",
    "**Roger Luo**, University of Waterloo.\n",
    "\n",
    "*NASA Park, DoraHacks*"
   ]
  },
  {
   "cell_type": "markdown",
   "metadata": {
    "slideshow": {
     "slide_type": "slide"
    }
   },
   "source": [
    "This tutorial is on github: https://github.com/Roger-luo/Tutorial-Julia-NASA-Park-2018\n",
    "\n",
    "prepared for non-github people here on gitlab too: https://gitlab.com/Roger-luo/tutorial-julia-nasa-park-2018\n",
    "\n",
    "\n",
    "You can try it in https://mybinder.org, or run locally after we installed the julia compiler.\n",
    "\n",
    "This tutorial aims to have a quick glance of the whole Julia language, for detailed tutorial please read the manual or check the materials in https://julialang.org/learning/"
   ]
  },
  {
   "cell_type": "markdown",
   "metadata": {
    "slideshow": {
     "slide_type": "slide"
    }
   },
   "source": [
    "## Installation\n",
    "\n",
    "### Option 1: Use it online\n",
    "\n",
    "You can use Julia online without any local installation with JuliaBox: http://juliabox.com\n",
    "\n",
    "### Option 2: Download JuliaPro (0.6, not yet update to 1.0)\n",
    "\n",
    "This includes: an editor with IDE extension on atom: Juno. Several packages.\n",
    "\n",
    "https://juliacomputing.com/products/juliapro.html\n",
    "\n"
   ]
  },
  {
   "cell_type": "markdown",
   "metadata": {
    "slideshow": {
     "slide_type": "slide"
    }
   },
   "source": [
    "### Option 3: Download the compiler\n",
    "\n",
    "You can download the Julia compiler from its official website.\n",
    "\n",
    "https://julialang.org/downloads/\n",
    "\n",
    "And write Julia scripts with your favorate editors. There are extensions for Julia in the following editors/IDEs:\n",
    "\n",
    "- Visual Studio Code\n",
    "- Vim/SpaceVim\n",
    "- Sublime\n",
    "- Jupter Lab\n",
    "- Jetbrain IDEs: https://plugins.jetbrains.com/plugin/10413-julia \n"
   ]
  },
  {
   "cell_type": "markdown",
   "metadata": {
    "slideshow": {
     "slide_type": "slide"
    }
   },
   "source": [
    "### Option 4: The hard way -- build from source\n",
    "\n",
    "You may gain better optimization by building the compiler from source with `MARCH=ON`, `USE_MKL`, etc. And this allows you to access fresh features in the `master` branch.\n",
    "\n",
    "To build from source, you should read through the [README.md](https://github.com/JuliaLang/julia/blob/master/README.md). For OSX, to build with Intel MKL, you should be careful with this issue: https://github.com/JuliaLang/julia/issues/15133#issuecomment-419161776\n"
   ]
  },
  {
   "cell_type": "markdown",
   "metadata": {
    "slideshow": {
     "slide_type": "slide"
    }
   },
   "source": [
    "## REPL\n",
    "\n",
    "Also known as **Interactive Session**, or **read-eval-print loop**. If you use `Python`, just use it like `IPython`.\n",
    "\n",
    "There are three modes by default:\n",
    "\n",
    "- `?` help mode\n",
    "- `]` package mode\n",
    "- `;` shell mode\n"
   ]
  },
  {
   "cell_type": "markdown",
   "metadata": {
    "slideshow": {
     "slide_type": "slide"
    }
   },
   "source": [
    "As expected Julia REPL has a lot other modes brought by external packages:\n",
    "\n",
    "- `Cxx` mode, press `;` from `Cxx.jl` (not upgrade to v1.0 yet)\n",
    "- `OhMyREPL`, colorize your REPL\n",
    "- etc."
   ]
  },
  {
   "cell_type": "markdown",
   "metadata": {
    "slideshow": {
     "slide_type": "fragment"
    }
   },
   "source": [
    "To run `julia`:\n",
    "\n",
    "- *nix users: open the terminal and type `julia`/run the julia executable\n",
    "- Windows/OS X: click the icon\n"
   ]
  },
  {
   "cell_type": "markdown",
   "metadata": {
    "slideshow": {
     "slide_type": "slide"
    }
   },
   "source": [
    "## Before we started"
   ]
  },
  {
   "cell_type": "markdown",
   "metadata": {
    "slideshow": {
     "slide_type": "slide"
    }
   },
   "source": [
    "## Where can I browse Julia packages?\n",
    "\n",
    "- [juliaobserver.com](https://juliaobserver.com)\n",
    "- [Julia.jl](https://github.com/svaksha/Julia.jl) awesome list for Julia packages (even for unregistered!)"
   ]
  },
  {
   "cell_type": "markdown",
   "metadata": {
    "slideshow": {
     "slide_type": "fragment"
    }
   },
   "source": [
    "## How do I get help when I get an error?\n",
    "\n",
    "- [Check Julia documentation: docs.julialang.org](https://docs.julialang.org)\n",
    "- [Google it](https://www.google.com)\n",
    "- [julia discourse: discourse.julialang.org](https://discourse.julialang.org)\n",
    "- [StackOverflow](https://stackoverflow.com)\n",
    "- [helpdesk channel in Julia slack (click to send an invite)](https://slackinvite.julialang.org)\n"
   ]
  },
  {
   "cell_type": "markdown",
   "metadata": {
    "slideshow": {
     "slide_type": "slide"
    }
   },
   "source": [
    "## What should I do when segment fault?\n",
    "\n",
    "This might be a bug. file an issue on github for the compiler repo: \n",
    "\n",
    "https://github.com/JuliaLang/julia/issues\n",
    "\n",
    "Or if this happens with a package, file an issue for the package\n",
    "\n",
    "**NOTE**: run `versioninfo()` in your Julia REPL and paste the result with issue."
   ]
  },
  {
   "cell_type": "markdown",
   "metadata": {
    "slideshow": {
     "slide_type": "slide"
    }
   },
   "source": [
    "## How can I contribute to the Julia project?\n",
    "\n",
    "You can donote through the website [julialang.org](https://julialang.org). Julia is an open source project under [NumFocus](https://numfocus.org). Pick up an issue and start PR. If you need help with development, try **my-first-PR** channel in the slack!"
   ]
  },
  {
   "cell_type": "markdown",
   "metadata": {
    "slideshow": {
     "slide_type": "slide"
    }
   },
   "source": [
    "## More Learning Resources\n",
    "\n",
    "- YouTube: [JuliaCon 2018](https://www.youtube.com/results?search_query=juliacon+2018)\n",
    "- ThinkJulia: [BenLauwens/ThinkJulia.jl](https://github.com/BenLauwens/ThinkJulia.jl)\n",
    "\n",
    "## CheatSheet\n",
    "\n",
    "https://juliadocs.github.io/Julia-Cheat-Sheet/\n"
   ]
  },
  {
   "cell_type": "markdown",
   "metadata": {
    "slideshow": {
     "slide_type": "slide"
    }
   },
   "source": [
    "# Hello World"
   ]
  },
  {
   "cell_type": "markdown",
   "metadata": {
    "slideshow": {
     "slide_type": "slide"
    }
   },
   "source": [
    "In Julia defining a variable is simple, just assign it."
   ]
  },
  {
   "cell_type": "code",
   "execution_count": null,
   "metadata": {
    "slideshow": {
     "slide_type": "fragment"
    }
   },
   "outputs": [],
   "source": [
    "hello_world = \"hello world!\""
   ]
  },
  {
   "cell_type": "markdown",
   "metadata": {
    "slideshow": {
     "slide_type": "fragment"
    }
   },
   "source": [
    "if you wish to print something to the screen, there is `print` function"
   ]
  },
  {
   "cell_type": "code",
   "execution_count": null,
   "metadata": {
    "slideshow": {
     "slide_type": "fragment"
    }
   },
   "outputs": [],
   "source": [
    "print(hello_world)"
   ]
  },
  {
   "cell_type": "code",
   "execution_count": null,
   "metadata": {
    "slideshow": {
     "slide_type": "fragment"
    }
   },
   "outputs": [],
   "source": [
    "println(hello_world)"
   ]
  },
  {
   "cell_type": "markdown",
   "metadata": {
    "slideshow": {
     "slide_type": "slide"
    }
   },
   "source": [
    "You can not only use ASCII for variable names, it might be more readable to use UTF-8 for math equations sometimes.\n",
    "\n",
    "Type LaTeX for math symbols\n",
    "\n",
    "`\\theta` + `tab`"
   ]
  },
  {
   "cell_type": "code",
   "execution_count": null,
   "metadata": {
    "slideshow": {
     "slide_type": "-"
    }
   },
   "outputs": [],
   "source": [
    "θ = 2.8\n",
    "sin(θ)"
   ]
  },
  {
   "cell_type": "markdown",
   "metadata": {
    "slideshow": {
     "slide_type": "slide"
    }
   },
   "source": [
    "And of course, emoji!\n",
    "\n",
    "`\\:smile` + `tab`"
   ]
  },
  {
   "cell_type": "code",
   "execution_count": null,
   "metadata": {},
   "outputs": [],
   "source": [
    "😄 = \"smile\""
   ]
  },
  {
   "cell_type": "markdown",
   "metadata": {},
   "source": [
    "The completions is suppoted in REPL, Atom, Sublime, Jetbrain, etc."
   ]
  },
  {
   "cell_type": "markdown",
   "metadata": {
    "slideshow": {
     "slide_type": "slide"
    }
   },
   "source": [
    "## Task one: summation\n",
    "\n",
    "Let's define a sum function, which will calculate\n",
    "\n",
    "$$\n",
    "sum(a) = \\sum_{i=1}^n a_i\n",
    "$$\n",
    "\n",
    "where $n$ is the length of $a$"
   ]
  },
  {
   "cell_type": "code",
   "execution_count": null,
   "metadata": {
    "slideshow": {
     "slide_type": "slide"
    }
   },
   "outputs": [],
   "source": [
    "function mysum(A)\n",
    "    s = 0.0\n",
    "    for a in A\n",
    "        s += a\n",
    "    end\n",
    "    s\n",
    "end"
   ]
  },
  {
   "cell_type": "code",
   "execution_count": null,
   "metadata": {
    "slideshow": {
     "slide_type": "slide"
    }
   },
   "outputs": [],
   "source": [
    "A = rand(1000)\n",
    "mysum(A)"
   ]
  },
  {
   "cell_type": "markdown",
   "metadata": {},
   "source": [
    "now let's sum over even indexes"
   ]
  },
  {
   "cell_type": "code",
   "execution_count": null,
   "metadata": {},
   "outputs": [],
   "source": [
    "is_even(x::Int) = x%2 == 0"
   ]
  },
  {
   "cell_type": "code",
   "execution_count": null,
   "metadata": {},
   "outputs": [],
   "source": [
    "function sum_even(A)\n",
    "    s = 0.0\n",
    "    for i in eachindex(A)\n",
    "        if is_even(i)\n",
    "            s += A[i]\n",
    "        end\n",
    "    end\n",
    "    s\n",
    "end"
   ]
  },
  {
   "cell_type": "markdown",
   "metadata": {
    "slideshow": {
     "slide_type": "slide"
    }
   },
   "source": [
    "### Documentation\n",
    "\n",
    "Let's add some docstrings to our `is_even`, the docstrings in Julia are in markdown syntax. For more details, please read the [manual](https://docs.julialang.org/en/latest/manual/documentation/)\n",
    "\n",
    "You can always check the document in a Julia program with `@doc` macro or press `?` in REPL or notebook environment."
   ]
  },
  {
   "cell_type": "code",
   "execution_count": null,
   "metadata": {
    "slideshow": {
     "slide_type": "slide"
    }
   },
   "outputs": [],
   "source": [
    "?push!"
   ]
  },
  {
   "cell_type": "markdown",
   "metadata": {
    "slideshow": {
     "slide_type": "slide"
    }
   },
   "source": [
    "## Task Two: Random Walk\n",
    "\n",
    "Random walk is a common mathematical problem in various area. We will simulate the simplest one here, a random walk in one dimension."
   ]
  },
  {
   "cell_type": "code",
   "execution_count": null,
   "metadata": {
    "slideshow": {
     "slide_type": "slide"
    }
   },
   "outputs": [],
   "source": [
    "function walk(t)\n",
    "    x = 0\n",
    "    trajectory = [x]\n",
    "    \n",
    "    for t in 1:t\n",
    "        if rand() < 0.5\n",
    "            x += 1\n",
    "        else\n",
    "            x -= 1\n",
    "        end\n",
    "        push!(trajectory, x)\n",
    "    end\n",
    "    trajectory\n",
    "end"
   ]
  },
  {
   "cell_type": "markdown",
   "metadata": {
    "slideshow": {
     "slide_type": "slide"
    }
   },
   "source": [
    "### Visualization\n",
    "\n",
    "There are various libraries for plotting in Julia:\n",
    "\n",
    "- [Plots](http://docs.juliaplots.org/latest/) A fronend for various plotting backends\n",
    "- [Makie](https://github.com/JuliaPlots/Makie.jl) High level plotting on the GPU\n",
    "- [GR](https://github.com/jheinen/GR.jl) Julia interface to GR\n"
   ]
  },
  {
   "cell_type": "code",
   "execution_count": null,
   "metadata": {
    "slideshow": {
     "slide_type": "slide"
    }
   },
   "outputs": [],
   "source": [
    "using GR, Interact\n",
    "\n",
    "T = 100\n",
    "plot(0:T, walk(T))"
   ]
  },
  {
   "cell_type": "code",
   "execution_count": null,
   "metadata": {},
   "outputs": [],
   "source": [
    "@manipulate for T in 10:100\n",
    "    plot(0:T, walk(T))\n",
    "end"
   ]
  },
  {
   "cell_type": "markdown",
   "metadata": {
    "slideshow": {
     "slide_type": "slide"
    }
   },
   "source": [
    "### Save the data\n",
    "\n",
    "Julia supports various way of serialization, e.g `csv`, `dlm` files. You might be using `pickle` in Python, we have something similar in Julia based on `HDF5` format called `JLD`, which allows you to save . `JLD2` is a package for handling those files and implemented in pure Julia. "
   ]
  },
  {
   "cell_type": "code",
   "execution_count": null,
   "metadata": {},
   "outputs": [],
   "source": [
    "using JLD2\n",
    "\n",
    "traj = walk(1000)\n",
    "@save \"data.jld\" traj"
   ]
  },
  {
   "cell_type": "code",
   "execution_count": null,
   "metadata": {},
   "outputs": [],
   "source": [
    "@load \"data.jld\" traj\n",
    "typeof(traj)"
   ]
  },
  {
   "cell_type": "markdown",
   "metadata": {
    "slideshow": {
     "slide_type": "slide"
    }
   },
   "source": [
    "## Everything is an Object\n",
    "\n",
    "Everything in Julia is an object, Julia supports object oriented programming as well. But all the Julia objects are instance of a type rather than class, Julia do not have class but have type. We will make use of subtyping and multiple dispatch rather than defining methods inside a class.\n"
   ]
  },
  {
   "cell_type": "markdown",
   "metadata": {
    "slideshow": {
     "slide_type": "slide"
    }
   },
   "source": [
    "### Define a Complex type\n",
    "\n",
    "complex numbers are quite common in numerical computing, but CPU usually does not support complex type natively, we will usually use two floating points to mimic a complex number, e.g in `C`, double precision complex number is\n",
    "\n",
    "```c\n",
    "double _Complex a;\n",
    "```\n",
    "\n",
    "or in C++, it is:\n",
    "\n",
    "```c++\n",
    "std::complex<double> a;\n",
    "```\n",
    "\n",
    "in Python, we have\n",
    "\n",
    "```python\n",
    "complex(2.0)\n",
    "```\n"
   ]
  },
  {
   "cell_type": "markdown",
   "metadata": {
    "slideshow": {
     "slide_type": "slide"
    }
   },
   "source": [
    "Like C/C++, Julia's complex number is implemented natively with some compiler optimizations, rather than define the type in the compiler. We will define our own complex number `MyComplex` as an example."
   ]
  },
  {
   "cell_type": "code",
   "execution_count": null,
   "metadata": {},
   "outputs": [],
   "source": [
    "struct MyComplex\n",
    "    real::Float64\n",
    "    imag::Float64\n",
    "end\n",
    "\n",
    "a = MyComplex(1.0, 2.0)"
   ]
  },
  {
   "cell_type": "code",
   "execution_count": null,
   "metadata": {},
   "outputs": [],
   "source": [
    "a.real\n",
    "a.imag"
   ]
  },
  {
   "cell_type": "markdown",
   "metadata": {
    "slideshow": {
     "slide_type": "slide"
    }
   },
   "source": [
    "And we need to define the operations between complex numbers now, I will only demostrate `*` operator\n",
    "\n",
    "$$\n",
    "(a + b \\cdot i) (c + d \\cdot i) = (ac - bd) + (ad + bc)i\n",
    "$$\n",
    "\n",
    "First, we will need to import this operator from `Base` (but not a brand new one, why?), in Julia, **operator** is just a special function, it will not be treated very differently."
   ]
  },
  {
   "cell_type": "code",
   "execution_count": null,
   "metadata": {},
   "outputs": [],
   "source": [
    "import Base: *\n",
    "\n",
    "*(a::MyComplex, b::MyComplex) = MyComplex(a.real * b.real - a.imag * b.imag, a.real * b.imag + a.imag * b.real)"
   ]
  },
  {
   "cell_type": "code",
   "execution_count": null,
   "metadata": {},
   "outputs": [],
   "source": [
    "b = MyComplex(1.0, 3.0)\n",
    "\n",
    "a * b"
   ]
  },
  {
   "cell_type": "markdown",
   "metadata": {
    "slideshow": {
     "slide_type": "slide"
    }
   },
   "source": [
    "To make the printing prettier. We will overload `show` now, here `$` means string interpolation, it can insert the return value of an expression to the string."
   ]
  },
  {
   "cell_type": "code",
   "execution_count": null,
   "metadata": {},
   "outputs": [],
   "source": [
    "import Base: show\n",
    "\n",
    "show(io::IO, x::MyComplex) = print(io, \"$(x.real) + $(x.imag)im\")"
   ]
  },
  {
   "cell_type": "code",
   "execution_count": null,
   "metadata": {},
   "outputs": [],
   "source": [
    "a * b"
   ]
  },
  {
   "cell_type": "markdown",
   "metadata": {
    "slideshow": {
     "slide_type": "slide"
    }
   },
   "source": [
    "### Arbitrary Complex Value\n",
    "\n",
    "We have already defined a simple complex type for double precision. But what if we need different precisions? We will not want to define every operations again. We can define a type with parameters"
   ]
  },
  {
   "cell_type": "code",
   "execution_count": null,
   "metadata": {},
   "outputs": [],
   "source": [
    "struct MyComplex2{T <: Real}\n",
    "    real::T\n",
    "    imag::T\n",
    "end"
   ]
  },
  {
   "cell_type": "markdown",
   "metadata": {},
   "source": [
    "This has a default constructor as well"
   ]
  },
  {
   "cell_type": "code",
   "execution_count": null,
   "metadata": {},
   "outputs": [],
   "source": [
    "MyComplex2{Float32}(1.0f0, 2.0f0)"
   ]
  },
  {
   "cell_type": "markdown",
   "metadata": {
    "slideshow": {
     "slide_type": "slide"
    }
   },
   "source": [
    "But in fact you can also define your own constructors, and this is the only function that can be define inside a type declaration. We have inner constructor and outter constructor. Inner constructor only has two differences with normal functions:\n",
    "\n",
    "- It is declared inside the block of a type declaration, rather than outside of it like normal methods.\n",
    "- It has access to a special locally existent function called new that creates objects of the block's type."
   ]
  },
  {
   "cell_type": "code",
   "execution_count": null,
   "metadata": {
    "slideshow": {
     "slide_type": "slide"
    }
   },
   "outputs": [],
   "source": [
    "struct MyComplex3{T <: Real}\n",
    "    real::T\n",
    "    imag::T\n",
    "    \n",
    "    MyComplex3(real::T, imag::T) where {T <: Real} = new{T}(real, imag) # equivalent to the default\n",
    "    MyComplex3(real::T) where {T <: Real} = new{T}(real, 0)\n",
    "    MyComplex3(x::MyComplex3{T}) where T = new{T}(x.real, x.imag) # initialize with another complex number\n",
    "end"
   ]
  },
  {
   "cell_type": "markdown",
   "metadata": {
    "slideshow": {
     "slide_type": "slide"
    }
   },
   "source": [
    "## Multiple Dispatch\n",
    "\n",
    "Julia does not have `class`, but this does not mean you need give every function a different name. The functions in Julia can be dispatched to different methods according to the type. Functions in Julia is called **generic function** and its implementation according to a specific type signature is called a **method**"
   ]
  },
  {
   "cell_type": "code",
   "execution_count": null,
   "metadata": {},
   "outputs": [],
   "source": [
    "abstract type TypeA end\n",
    "\n",
    "struct TypeB <: TypeA end\n",
    "struct TypeC <: TypeA end\n",
    "\n",
    "wooo(a1::TypeA, a2::TypeA) = println(\"A/A\")\n",
    "wooo(a::TypeA, b::TypeB) = println(\"A/B\")\n",
    "\n",
    "callme(a1::TypeA, a2::TypeA) = wooo(a1, a2)\n",
    "\n",
    "b = TypeB(); c = TypeC();\n",
    "callme(c, b)"
   ]
  },
  {
   "cell_type": "markdown",
   "metadata": {
    "slideshow": {
     "slide_type": "slide"
    }
   },
   "source": [
    "### Question 1: is multiple dispatch the same as function overloading? No\n",
    "\n",
    "https://discourse.julialang.org/t/is-multiple-dispatch-the-same-as-function-overloading/4145\n",
    "\n",
    "\n",
    "### Question 2: What is relationship between Polymorphism and Multiple Dispatch?\n",
    "\n",
    "https://stackoverflow.com/questions/125050/whats-the-difference-between-polymorphism-and-multiple-dispatch"
   ]
  },
  {
   "cell_type": "markdown",
   "metadata": {
    "slideshow": {
     "slide_type": "slide"
    }
   },
   "source": [
    "### Type System\n",
    "\n",
    "In Julia, we mainly have two kinds of types: abstract type and concrete type. but there are two concrete types:\n",
    "\n",
    "- mutable type\n",
    "- immutable type"
   ]
  },
  {
   "cell_type": "markdown",
   "metadata": {
    "slideshow": {
     "slide_type": "slide"
    }
   },
   "source": [
    "### Question: Why do we need immutable type?\n",
    "from documentation:\n",
    "\n",
    "> Composite objects declared with struct are immutable; they cannot be modified after construction. This may seem odd at first, but it has several advantages: \n",
    "> It can be more efficient. \n",
    "> Some structs can be packed efficiently into arrays, and in some cases the compiler is able to avoid allocating immutable objects entirely.\n",
    "> It is not possible to violate the invariants provided by the type's constructors. Code using immutable objects can be easier to reason about.\n"
   ]
  },
  {
   "cell_type": "markdown",
   "metadata": {
    "slideshow": {
     "slide_type": "slide"
    }
   },
   "source": [
    "### Everything is an expression\n",
    "\n",
    "Julia has lisp-like macros, Julia's expression is similar to `S-Expr`. Maybe you hate `end` at first, but you might find it elegant with `end` keyword here.\n",
    "\n",
    "In Julia we are able to process Julia own expression with the language its own, which is called meta-programming."
   ]
  },
  {
   "cell_type": "markdown",
   "metadata": {
    "slideshow": {
     "slide_type": "slide"
    }
   },
   "source": [
    "#### Define your own string literals\n",
    "\n",
    "String literals can be very useful to help you process different kinds of strings. Julia's string literal is quite similar to python. In Python, we have `r'...'` for regex expressions, `f'...'` for formated strigns. \n",
    "\n",
    "But in Julia, you will be able to define your own with macro name ends with `_str`"
   ]
  },
  {
   "cell_type": "code",
   "execution_count": null,
   "metadata": {},
   "outputs": [],
   "source": [
    "struct MyStr <: AbstractString\n",
    "    data::String\n",
    "end\n",
    "\n",
    "Base.show(io::IO, s::MyStr) = print(io, \"My String is: \", s.data)\n",
    "\n",
    "macro my_str(s)\n",
    "   MyStr(s)    \n",
    "end\n",
    "\n",
    "my\"hello!\""
   ]
  },
  {
   "cell_type": "markdown",
   "metadata": {
    "slideshow": {
     "slide_type": "slide"
    }
   },
   "source": [
    "This appears quite frequently in Julia while handling different tasks with strings. They are used as factories to construct different string types and dispatch differnet methods."
   ]
  },
  {
   "cell_type": "code",
   "execution_count": null,
   "metadata": {},
   "outputs": [],
   "source": [
    "import Markdown: @md_str\n",
    "\n",
    "md\"\"\"\n",
    "# Header 1\n",
    "## Header 2\n",
    "### Header 3\n",
    "#### Header 4\n",
    "\"\"\""
   ]
  },
  {
   "cell_type": "markdown",
   "metadata": {
    "slideshow": {
     "slide_type": "slide"
    }
   },
   "source": [
    "### How to get a Julia expression?\n",
    "\n",
    "In Julia you can get the expression object by quoting a part of the code, there are two sugars:\n",
    "\n",
    "- for short expression, you can use `:( ... )` syntax"
   ]
  },
  {
   "cell_type": "code",
   "execution_count": null,
   "metadata": {},
   "outputs": [],
   "source": [
    "ex = :(a + b)"
   ]
  },
  {
   "cell_type": "markdown",
   "metadata": {},
   "source": [
    "Or use `quote` for long expressions"
   ]
  },
  {
   "cell_type": "code",
   "execution_count": null,
   "metadata": {},
   "outputs": [],
   "source": [
    "quote\n",
    "    a + b\n",
    "    b + c\n",
    "end"
   ]
  },
  {
   "cell_type": "markdown",
   "metadata": {
    "slideshow": {
     "slide_type": "slide"
    }
   },
   "source": [
    "Here you might have found that, every Julia code is an expression, and `end` means the end of the expression, it can be combined with different keywords like `function`, `quote`, `macro`, etc."
   ]
  },
  {
   "cell_type": "code",
   "execution_count": null,
   "metadata": {},
   "outputs": [],
   "source": [
    "ex = quote\n",
    "    function foo()\n",
    "        println()\n",
    "    end\n",
    "end\n",
    "\n",
    "ex.args"
   ]
  },
  {
   "cell_type": "markdown",
   "metadata": {},
   "source": [
    "所有的表达式都是 `Expr`，`QuoteNode`，`Symbol` 三种类型之一。"
   ]
  },
  {
   "cell_type": "code",
   "execution_count": null,
   "metadata": {},
   "outputs": [],
   "source": [
    "typeof(:(a + b))"
   ]
  },
  {
   "cell_type": "code",
   "execution_count": null,
   "metadata": {},
   "outputs": [],
   "source": [
    "typeof(:(a))"
   ]
  },
  {
   "cell_type": "code",
   "execution_count": null,
   "metadata": {},
   "outputs": [],
   "source": [
    "typeof(:(:(a)))"
   ]
  },
  {
   "cell_type": "markdown",
   "metadata": {
    "slideshow": {
     "slide_type": "slide"
    }
   },
   "source": [
    "## Use macro to compose functions\n",
    "\n",
    "We will create our own syntax with a macro that transform `g f k l` => `g(f(k(l)))` here"
   ]
  },
  {
   "cell_type": "code",
   "execution_count": null,
   "metadata": {},
   "outputs": [],
   "source": [
    "fa(x) = (println(\"call a\"); x)\n",
    "fb(x) = (println(\"call b\"); x)\n",
    "fc(x) = (println(\"call c\"); x)\n",
    "\n",
    "macro >(fs...)\n",
    "    fs\n",
    "end"
   ]
  },
  {
   "cell_type": "markdown",
   "metadata": {},
   "source": [
    "use `@macroexpand` to check what you produce with the macro"
   ]
  },
  {
   "cell_type": "code",
   "execution_count": null,
   "metadata": {
    "slideshow": {
     "slide_type": "slide"
    }
   },
   "outputs": [],
   "source": [
    "@macroexpand @> fa fb fc # => x->fa(fb(fc(x)))"
   ]
  },
  {
   "cell_type": "code",
   "execution_count": null,
   "metadata": {
    "slideshow": {
     "slide_type": "slide"
    }
   },
   "outputs": [],
   "source": [
    "macro >(fs...)\n",
    "    ex = :($(last(fs))(x))\n",
    "    for f in reverse(fs[1:end-1])\n",
    "        ex = :($f($ex))\n",
    "    end\n",
    "    :(x->$ex)\n",
    "end"
   ]
  },
  {
   "cell_type": "markdown",
   "metadata": {
    "slideshow": {
     "slide_type": "slide"
    }
   },
   "source": [
    "check it again"
   ]
  },
  {
   "cell_type": "code",
   "execution_count": null,
   "metadata": {},
   "outputs": [],
   "source": [
    "@macroexpand @> fa fb fc # => x->fa(fb(fc(x)))"
   ]
  },
  {
   "cell_type": "code",
   "execution_count": null,
   "metadata": {
    "slideshow": {
     "slide_type": "slide"
    }
   },
   "outputs": [],
   "source": [
    "f = @> fa fb fc\n",
    "f(2)"
   ]
  },
  {
   "cell_type": "markdown",
   "metadata": {
    "slideshow": {
     "slide_type": "slide"
    }
   },
   "source": [
    "## Staged Programming? The generated function\n",
    "\n",
    "Julia is able to do multi-stage programming since v0.4, generally put `@generate` before your function declaration allow you to generate typed expression. Or it allows you to calculate things according to the type first."
   ]
  },
  {
   "cell_type": "code",
   "execution_count": null,
   "metadata": {},
   "outputs": [],
   "source": [
    "# don't write like this, demostration only\n",
    "@generated function bar(x)\n",
    "    if x <: Integer\n",
    "        return :(x ^ 2)\n",
    "    else\n",
    "        return :(x)\n",
    "    end\n",
    "end"
   ]
  },
  {
   "cell_type": "markdown",
   "metadata": {
    "slideshow": {
     "slide_type": "slide"
    }
   },
   "source": [
    "This is extremly useful when you want to improve the performance, since you can put some unnecessary calculations to compile time. There are a lot packages use this feature heavily:\n",
    "\n",
    "- [CUDAnative](https://github.com/JuliaGPU/CUDAnative.jl)\n",
    "- [JSON2](https://github.com/quinnj/JSON2.jl)\n",
    "- etc."
   ]
  },
  {
   "cell_type": "markdown",
   "metadata": {
    "slideshow": {
     "slide_type": "slide"
    }
   },
   "source": [
    "# The end"
   ]
  }
 ],
 "metadata": {
  "celltoolbar": "Slideshow",
  "kernelspec": {
   "display_name": "Julia 1.0.0",
   "language": "julia",
   "name": "julia-1.0"
  },
  "language_info": {
   "file_extension": ".jl",
   "mimetype": "application/julia",
   "name": "julia",
   "version": "1.0.0"
  }
 },
 "nbformat": 4,
 "nbformat_minor": 2
}
